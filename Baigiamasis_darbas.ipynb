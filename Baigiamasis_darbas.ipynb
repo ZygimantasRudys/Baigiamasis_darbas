{
  "cells": [
    {
      "cell_type": "markdown",
      "metadata": {
        "id": "view-in-github",
        "colab_type": "text"
      },
      "source": [
        "<a href=\"https://colab.research.google.com/github/ZygimantasRudys/Baigiamasis_darbas/blob/main/Baigiamasis_darbas.ipynb\" target=\"_parent\"><img src=\"https://colab.research.google.com/assets/colab-badge.svg\" alt=\"Open In Colab\"/></a>"
      ]
    },
    {
      "cell_type": "markdown",
      "metadata": {
        "id": "kmUj7_iUWOvr"
      },
      "source": [
        "# Neural Network with Keras tutorial:\n",
        "In this tutorial I used Feedforward Neural Network (FNN), aka a Fully Connected Network or Multi-Layer Perceptron (MLP).\n",
        "\n",
        "Architecture: consists of an input layer, one or more hidden layers, and an output layer. Each layer consists of neurons that are fully connected to the neurons in the previous and next layers.\n",
        "\n",
        "Usage: used for tabular data, regression, and classification tasks.\n",
        "This code: implements FNN with 2 hidden layers."
      ]
    },
    {
      "cell_type": "markdown",
      "source": [
        "Step 0: download the DataSet"
      ],
      "metadata": {
        "id": "diC8sqVw5VLH"
      }
    },
    {
      "cell_type": "code",
      "source": [
        "# Download the dataset using \"wget\" command\n",
        "!wget -O driver_standings.csv \"https://www.kaggle.com/datasets/rohanrao/formula-1-world-championship-1950-2020?resource=download&select=driver_standings.csv\"\n",
        "\n",
        "# Display the first few rows of the dataset\n",
        "print(df.head())"
      ],
      "metadata": {
        "colab": {
          "base_uri": "https://localhost:8080/"
        },
        "id": "yt2iN_PT5QDx",
        "outputId": "7d11ea6c-8e41-4692-a218-eef8ed8fe2f2"
      },
      "execution_count": 27,
      "outputs": [
        {
          "output_type": "stream",
          "name": "stdout",
          "text": [
            "--2024-05-30 09:50:14--  https://www.kaggle.com/datasets/rohanrao/formula-1-world-championship-1950-2020?resource=download&select=driver_standings.csv\n",
            "Resolving www.kaggle.com (www.kaggle.com)... 35.244.233.98\n",
            "Connecting to www.kaggle.com (www.kaggle.com)|35.244.233.98|:443... connected.\n",
            "HTTP request sent, awaiting response... 200 OK\n",
            "Length: unspecified [text/html]\n",
            "Saving to: ‘driver_standings.csv’\n",
            "\n",
            "driver_standings.cs     [ <=>                ]  10.62K  --.-KB/s    in 0.06s   \n",
            "\n",
            "2024-05-30 09:50:15 (189 KB/s) - ‘driver_standings.csv’ saved [10875]\n",
            "\n",
            "   driverStandingsId  raceId  driverId  points  position positionText  wins  \\\n",
            "0                  1      18         1    10.0         1            1     1   \n",
            "1                  2      18         2     8.0         2            2     0   \n",
            "2                  3      18         3     6.0         3            3     0   \n",
            "3                  4      18         4     5.0         4            4     0   \n",
            "4                  5      18         5     4.0         5            5     0   \n",
            "\n",
            "   win  \n",
            "0    1  \n",
            "1    0  \n",
            "2    0  \n",
            "3    0  \n",
            "4    0  \n"
          ]
        }
      ]
    },
    {
      "cell_type": "markdown",
      "source": [
        "1-st step: import \"Pandas\" library for data manipulation.\n",
        "\n",
        "Then load a CSV file containing the dataset into a DataFrame called df."
      ],
      "metadata": {
        "id": "dHgoS-6rgg3d"
      }
    },
    {
      "cell_type": "code",
      "source": [
        "# Prepare the tools required for a dataset\n",
        "import pandas as pd\n",
        "\n",
        "# Load the dataset\n",
        "df = pd.read_csv('driver_standings.csv')"
      ],
      "metadata": {
        "id": "QkF7F5GkgWNG"
      },
      "execution_count": 1,
      "outputs": []
    },
    {
      "cell_type": "markdown",
      "source": [
        "2-nd step: create a new column called 'win' in the DataFrame df.\n",
        "\n",
        "This column contains binary values (1 if the driver won the race, if not then 0)."
      ],
      "metadata": {
        "id": "jJ4J2Ohjhz6g"
      }
    },
    {
      "cell_type": "code",
      "source": [
        "# Create a new target column 'win' indicating if the driver won the race\n",
        "df['win'] = df['position'].apply(lambda x: 1 if x == 1 else 0)"
      ],
      "metadata": {
        "id": "9cwnU1h6hrrg"
      },
      "execution_count": 2,
      "outputs": []
    },
    {
      "cell_type": "markdown",
      "source": [
        "3-rd step: define a list of feature columns that will be used for training (features).\n",
        "\n",
        "Create X as a DataFrame containing selected feature columns.\n",
        "\n",
        "Create Y as a Series containing the target variable ('win')."
      ],
      "metadata": {
        "id": "fXOchxYXipq7"
      }
    },
    {
      "cell_type": "code",
      "source": [
        "# Selection of relevant features for training\n",
        "features = ['raceId', 'driverId', 'points', 'wins']  # You can adjust features as needed based on dataset\n",
        "X = df[features]\n",
        "y = df['win']"
      ],
      "metadata": {
        "id": "U3gWNemvii3J"
      },
      "execution_count": 3,
      "outputs": []
    },
    {
      "cell_type": "markdown",
      "source": [
        "4-th step: import the \"train_test_split\" f-tion from sklearn for splitting the data.\n",
        "\n",
        "Then import classes for creating and defining a Neural Network from \"tensorflow.keras.\""
      ],
      "metadata": {
        "id": "5iVq_D_Xj5Wt"
      }
    },
    {
      "cell_type": "code",
      "source": [
        "# Import necessary libraries for model training\n",
        "from sklearn.model_selection import train_test_split\n",
        "from tensorflow.keras.models import Sequential\n",
        "from tensorflow.keras.layers import Dense"
      ],
      "metadata": {
        "id": "bq_LlUsaj2kZ"
      },
      "execution_count": 4,
      "outputs": []
    },
    {
      "cell_type": "markdown",
      "source": [
        "5-th step: split the dataset into training and testing sets (80% for training, 20% for testing) using train_test_split."
      ],
      "metadata": {
        "id": "9Wu964dxklhU"
      }
    },
    {
      "cell_type": "code",
      "source": [
        "# Split the data into training and testing sets\n",
        "X_train, X_test, y_train, y_test = train_test_split(X, y, test_size=0.2, random_state=42)\n",
        "\n",
        "# any number could be used in \"random_state=\" - this a cultural reference from Douglas Adams science fiction series\n",
        "# \"The Hitchhiker's Guide to the Galaxy,\" where 42 is humorously suggested as the \"answer to the ultimate question\n",
        "# of life, the universe, and everything.\""
      ],
      "metadata": {
        "id": "2gJTm3BhkhLS"
      },
      "execution_count": 5,
      "outputs": []
    },
    {
      "cell_type": "markdown",
      "source": [
        "6-th step: create a Sequential model. (allows us to stack layers linearly, suitable for building simple FNN, where each layer has 1 input tensor and 1 output tensor).\n",
        "\n",
        "Add three dense (fully connected) layers to the model:\n",
        "The first layer has 64 neurons and uses the ReLU activation function.\n",
        "The second layer has 32 neurons and also uses the ReLU activation function.\n",
        "\n",
        "The output layer has 1 neuron and uses the sigmoid activation function for binary classification."
      ],
      "metadata": {
        "id": "-fRO9N1iol6N"
      }
    },
    {
      "cell_type": "code",
      "source": [
        "# Step 6: Define the neural network model\n",
        "model = Sequential() #\n",
        "model.add(Dense(64, input_dim=len(features), activation='relu')) # More neurons in 1st layer allow NN to learn more complex patterns\n",
        "model.add(Dense(32, activation='relu')) # fewer neurons in the 2nd layer reduce the model complexity gradually\n",
        "model.add(Dense(1, activation='sigmoid'))  # Sigmoid activation for binary classification"
      ],
      "metadata": {
        "id": "QU1aJXONmvXn"
      },
      "execution_count": 6,
      "outputs": []
    },
    {
      "cell_type": "markdown",
      "source": [
        "7-th step: compile the model specifying the loss function (binary_crossentropy), optimizer (adam), and metric (accuracy)."
      ],
      "metadata": {
        "id": "bPdsv7lcxKcd"
      }
    },
    {
      "cell_type": "code",
      "source": [
        "# Compiling the model\n",
        "model.compile(loss='binary_crossentropy', optimizer='adam', metrics=['accuracy'])"
      ],
      "metadata": {
        "id": "rRtqNSjjxCNY"
      },
      "execution_count": 7,
      "outputs": []
    },
    {
      "cell_type": "markdown",
      "source": [
        "8-th step: train the model using the training data (X_train, y_train), for 50 epochs, with a batch size of 32.\n",
        "\n",
        "Provide the validation data (X_test, y_test) to monitor the model's performance on unseen data during training."
      ],
      "metadata": {
        "id": "cXewFcCrxbQQ"
      }
    },
    {
      "cell_type": "code",
      "source": [
        "# Training the model\n",
        "model.fit(X_train, y_train, epochs=50, batch_size=32, validation_data=(X_test, y_test))\n",
        "# 50 epochs - ensure the model learns sufficiently without overfitting"
      ],
      "metadata": {
        "colab": {
          "base_uri": "https://localhost:8080/"
        },
        "collapsed": true,
        "id": "GwWARjL0xTTg",
        "outputId": "43682d47-732d-4083-c94c-754c7aa709bc"
      },
      "execution_count": 8,
      "outputs": [
        {
          "output_type": "stream",
          "name": "stdout",
          "text": [
            "Epoch 1/50\n",
            "854/854 [==============================] - 3s 2ms/step - loss: 0.5500 - accuracy: 0.9554 - val_loss: 0.1827 - val_accuracy: 0.9681\n",
            "Epoch 2/50\n",
            "854/854 [==============================] - 3s 4ms/step - loss: 0.1689 - accuracy: 0.9676 - val_loss: 0.1382 - val_accuracy: 0.9689\n",
            "Epoch 3/50\n",
            "854/854 [==============================] - 2s 2ms/step - loss: 0.1457 - accuracy: 0.9704 - val_loss: 0.1682 - val_accuracy: 0.9700\n",
            "Epoch 4/50\n",
            "854/854 [==============================] - 2s 2ms/step - loss: 0.1266 - accuracy: 0.9721 - val_loss: 0.0931 - val_accuracy: 0.9747\n",
            "Epoch 5/50\n",
            "854/854 [==============================] - 2s 2ms/step - loss: 0.1087 - accuracy: 0.9721 - val_loss: 0.0942 - val_accuracy: 0.9736\n",
            "Epoch 6/50\n",
            "854/854 [==============================] - 2s 2ms/step - loss: 0.1135 - accuracy: 0.9723 - val_loss: 0.1870 - val_accuracy: 0.9676\n",
            "Epoch 7/50\n",
            "854/854 [==============================] - 2s 2ms/step - loss: 0.0988 - accuracy: 0.9740 - val_loss: 0.0751 - val_accuracy: 0.9732\n",
            "Epoch 8/50\n",
            "854/854 [==============================] - 2s 3ms/step - loss: 0.0905 - accuracy: 0.9734 - val_loss: 0.0788 - val_accuracy: 0.9748\n",
            "Epoch 9/50\n",
            "854/854 [==============================] - 3s 3ms/step - loss: 0.0830 - accuracy: 0.9762 - val_loss: 0.0815 - val_accuracy: 0.9739\n",
            "Epoch 10/50\n",
            "854/854 [==============================] - 2s 2ms/step - loss: 0.0832 - accuracy: 0.9745 - val_loss: 0.0766 - val_accuracy: 0.9742\n",
            "Epoch 11/50\n",
            "854/854 [==============================] - 2s 2ms/step - loss: 0.0745 - accuracy: 0.9751 - val_loss: 0.1187 - val_accuracy: 0.9722\n",
            "Epoch 12/50\n",
            "854/854 [==============================] - 2s 2ms/step - loss: 0.0728 - accuracy: 0.9761 - val_loss: 0.0675 - val_accuracy: 0.9757\n",
            "Epoch 13/50\n",
            "854/854 [==============================] - 2s 2ms/step - loss: 0.0666 - accuracy: 0.9768 - val_loss: 0.0665 - val_accuracy: 0.9742\n",
            "Epoch 14/50\n",
            "854/854 [==============================] - 2s 2ms/step - loss: 0.0731 - accuracy: 0.9756 - val_loss: 0.0645 - val_accuracy: 0.9767\n",
            "Epoch 15/50\n",
            "854/854 [==============================] - 3s 3ms/step - loss: 0.0643 - accuracy: 0.9758 - val_loss: 0.0632 - val_accuracy: 0.9755\n",
            "Epoch 16/50\n",
            "854/854 [==============================] - 2s 3ms/step - loss: 0.0631 - accuracy: 0.9771 - val_loss: 0.0690 - val_accuracy: 0.9744\n",
            "Epoch 17/50\n",
            "854/854 [==============================] - 2s 2ms/step - loss: 0.0625 - accuracy: 0.9770 - val_loss: 0.0626 - val_accuracy: 0.9757\n",
            "Epoch 18/50\n",
            "854/854 [==============================] - 2s 2ms/step - loss: 0.0604 - accuracy: 0.9769 - val_loss: 0.0607 - val_accuracy: 0.9761\n",
            "Epoch 19/50\n",
            "854/854 [==============================] - 2s 2ms/step - loss: 0.0587 - accuracy: 0.9771 - val_loss: 0.0666 - val_accuracy: 0.9748\n",
            "Epoch 20/50\n",
            "854/854 [==============================] - 2s 2ms/step - loss: 0.0586 - accuracy: 0.9775 - val_loss: 0.0609 - val_accuracy: 0.9757\n",
            "Epoch 21/50\n",
            "854/854 [==============================] - 2s 2ms/step - loss: 0.0576 - accuracy: 0.9777 - val_loss: 0.0671 - val_accuracy: 0.9751\n",
            "Epoch 22/50\n",
            "854/854 [==============================] - 3s 3ms/step - loss: 0.0588 - accuracy: 0.9778 - val_loss: 0.0589 - val_accuracy: 0.9752\n",
            "Epoch 23/50\n",
            "854/854 [==============================] - 2s 2ms/step - loss: 0.0559 - accuracy: 0.9779 - val_loss: 0.0664 - val_accuracy: 0.9758\n",
            "Epoch 24/50\n",
            "854/854 [==============================] - 2s 2ms/step - loss: 0.0572 - accuracy: 0.9776 - val_loss: 0.0595 - val_accuracy: 0.9761\n",
            "Epoch 25/50\n",
            "854/854 [==============================] - 2s 2ms/step - loss: 0.0567 - accuracy: 0.9779 - val_loss: 0.0602 - val_accuracy: 0.9763\n",
            "Epoch 26/50\n",
            "854/854 [==============================] - 2s 2ms/step - loss: 0.0553 - accuracy: 0.9788 - val_loss: 0.0631 - val_accuracy: 0.9766\n",
            "Epoch 27/50\n",
            "854/854 [==============================] - 2s 2ms/step - loss: 0.0551 - accuracy: 0.9780 - val_loss: 0.0581 - val_accuracy: 0.9773\n",
            "Epoch 28/50\n",
            "854/854 [==============================] - 2s 3ms/step - loss: 0.0564 - accuracy: 0.9777 - val_loss: 0.0604 - val_accuracy: 0.9764\n",
            "Epoch 29/50\n",
            "854/854 [==============================] - 3s 3ms/step - loss: 0.0533 - accuracy: 0.9783 - val_loss: 0.0624 - val_accuracy: 0.9760\n",
            "Epoch 30/50\n",
            "854/854 [==============================] - 2s 2ms/step - loss: 0.0536 - accuracy: 0.9781 - val_loss: 0.0671 - val_accuracy: 0.9744\n",
            "Epoch 31/50\n",
            "854/854 [==============================] - 2s 2ms/step - loss: 0.0534 - accuracy: 0.9789 - val_loss: 0.0675 - val_accuracy: 0.9761\n",
            "Epoch 32/50\n",
            "854/854 [==============================] - 2s 2ms/step - loss: 0.0529 - accuracy: 0.9782 - val_loss: 0.0681 - val_accuracy: 0.9744\n",
            "Epoch 33/50\n",
            "854/854 [==============================] - 2s 2ms/step - loss: 0.0537 - accuracy: 0.9786 - val_loss: 0.0574 - val_accuracy: 0.9774\n",
            "Epoch 34/50\n",
            "854/854 [==============================] - 2s 2ms/step - loss: 0.0531 - accuracy: 0.9785 - val_loss: 0.0560 - val_accuracy: 0.9771\n",
            "Epoch 35/50\n",
            "854/854 [==============================] - 3s 3ms/step - loss: 0.0538 - accuracy: 0.9790 - val_loss: 0.0571 - val_accuracy: 0.9780\n",
            "Epoch 36/50\n",
            "854/854 [==============================] - 2s 2ms/step - loss: 0.0546 - accuracy: 0.9785 - val_loss: 0.0583 - val_accuracy: 0.9760\n",
            "Epoch 37/50\n",
            "854/854 [==============================] - 2s 2ms/step - loss: 0.0523 - accuracy: 0.9796 - val_loss: 0.0581 - val_accuracy: 0.9771\n",
            "Epoch 38/50\n",
            "854/854 [==============================] - 2s 2ms/step - loss: 0.0551 - accuracy: 0.9784 - val_loss: 0.0665 - val_accuracy: 0.9758\n",
            "Epoch 39/50\n",
            "854/854 [==============================] - 2s 2ms/step - loss: 0.0520 - accuracy: 0.9785 - val_loss: 0.0569 - val_accuracy: 0.9773\n",
            "Epoch 40/50\n",
            "854/854 [==============================] - 2s 2ms/step - loss: 0.0516 - accuracy: 0.9788 - val_loss: 0.0604 - val_accuracy: 0.9773\n",
            "Epoch 41/50\n",
            "854/854 [==============================] - 2s 3ms/step - loss: 0.0539 - accuracy: 0.9789 - val_loss: 0.0586 - val_accuracy: 0.9760\n",
            "Epoch 42/50\n",
            "854/854 [==============================] - 3s 3ms/step - loss: 0.0521 - accuracy: 0.9788 - val_loss: 0.0582 - val_accuracy: 0.9771\n",
            "Epoch 43/50\n",
            "854/854 [==============================] - 2s 2ms/step - loss: 0.0512 - accuracy: 0.9789 - val_loss: 0.0582 - val_accuracy: 0.9773\n",
            "Epoch 44/50\n",
            "854/854 [==============================] - 2s 2ms/step - loss: 0.0532 - accuracy: 0.9791 - val_loss: 0.0575 - val_accuracy: 0.9771\n",
            "Epoch 45/50\n",
            "854/854 [==============================] - 2s 2ms/step - loss: 0.0506 - accuracy: 0.9794 - val_loss: 0.0606 - val_accuracy: 0.9767\n",
            "Epoch 46/50\n",
            "854/854 [==============================] - 2s 2ms/step - loss: 0.0525 - accuracy: 0.9789 - val_loss: 0.0658 - val_accuracy: 0.9749\n",
            "Epoch 47/50\n",
            "854/854 [==============================] - 2s 2ms/step - loss: 0.0516 - accuracy: 0.9785 - val_loss: 0.0592 - val_accuracy: 0.9766\n",
            "Epoch 48/50\n",
            "854/854 [==============================] - 3s 3ms/step - loss: 0.0510 - accuracy: 0.9789 - val_loss: 0.0572 - val_accuracy: 0.9771\n",
            "Epoch 49/50\n",
            "854/854 [==============================] - 2s 3ms/step - loss: 0.0506 - accuracy: 0.9792 - val_loss: 0.0597 - val_accuracy: 0.9755\n",
            "Epoch 50/50\n",
            "854/854 [==============================] - 2s 2ms/step - loss: 0.0527 - accuracy: 0.9788 - val_loss: 0.0796 - val_accuracy: 0.9732\n"
          ]
        },
        {
          "output_type": "execute_result",
          "data": {
            "text/plain": [
              "<keras.src.callbacks.History at 0x7c9e2197df60>"
            ]
          },
          "metadata": {},
          "execution_count": 8
        }
      ]
    },
    {
      "cell_type": "markdown",
      "source": [
        "9-th step: evaluate the trained model using the testing data (X_test, y_test).\n",
        "\n",
        "Print the model's accuracy on the testing data."
      ],
      "metadata": {
        "id": "4rEC5n3cykjn"
      }
    },
    {
      "cell_type": "code",
      "source": [
        "# Evaluate the model\n",
        "loss, accuracy = model.evaluate(X_test, y_test)\n",
        "print(f\"Model accuracy: {accuracy * 100:.2f}%\")"
      ],
      "metadata": {
        "colab": {
          "base_uri": "https://localhost:8080/"
        },
        "id": "vXKwg_r5yeTW",
        "outputId": "dfe8b1f4-4923-4593-b78e-4328dc49d895"
      },
      "execution_count": 9,
      "outputs": [
        {
          "output_type": "stream",
          "name": "stdout",
          "text": [
            "214/214 [==============================] - 0s 1ms/step - loss: 0.0796 - accuracy: 0.9732\n",
            "Model accuracy: 97.32%\n"
          ]
        }
      ]
    },
    {
      "cell_type": "markdown",
      "source": [
        "10-th step: save the trained model to a file named 'f1_model.h5' for later use."
      ],
      "metadata": {
        "id": "NZsyNXSVzBCS"
      }
    },
    {
      "cell_type": "code",
      "source": [
        "# Save the model\n",
        "model.save('f1_model.h5')"
      ],
      "metadata": {
        "colab": {
          "base_uri": "https://localhost:8080/"
        },
        "id": "mX3S9VrEy9qE",
        "outputId": "5022f798-1122-4686-e224-a0544fdaae8c"
      },
      "execution_count": 10,
      "outputs": [
        {
          "output_type": "stream",
          "name": "stderr",
          "text": [
            "/usr/local/lib/python3.10/dist-packages/keras/src/engine/training.py:3103: UserWarning: You are saving your model as an HDF5 file via `model.save()`. This file format is considered legacy. We recommend using instead the native Keras format, e.g. `model.save('my_model.keras')`.\n",
            "  saving_api.save_model(\n"
          ]
        }
      ]
    },
    {
      "cell_type": "markdown",
      "source": [
        "11-th step: prompt the user to enter the values for:\n",
        "\n",
        "raceId,\n",
        "driverId,\n",
        "points,\n",
        "wins.\n",
        "\n",
        "Inputs will be converted to integers and stored in variables."
      ],
      "metadata": {
        "id": "UgDDNl1szS3y"
      }
    },
    {
      "cell_type": "code",
      "source": [
        "# Input fields for user data\n",
        "raceId = int(input('Enter Race ID: '))\n",
        "driverId = int(input('Enter Driver ID: '))\n",
        "points = int(input('Enter Points: '))\n",
        "wins = int(input('Enter Wins: '))"
      ],
      "metadata": {
        "colab": {
          "base_uri": "https://localhost:8080/"
        },
        "id": "cBw3hEexzOQ0",
        "outputId": "53a1ec34-90fd-4d42-a603-78ece8de77ff"
      },
      "execution_count": 23,
      "outputs": [
        {
          "name": "stdout",
          "output_type": "stream",
          "text": [
            "Enter Race ID: 2\n",
            "Enter Driver ID: 12\n",
            "Enter Points: 50\n",
            "Enter Wins: 1\n"
          ]
        }
      ]
    },
    {
      "cell_type": "markdown",
      "source": [
        "12-th step: create a dictionary with the user input values.\n",
        "\n",
        "Convert this dictionary into a DataFrame (new_race_df)."
      ],
      "metadata": {
        "id": "5BM9JDdH0P74"
      }
    },
    {
      "cell_type": "code",
      "source": [
        "# Creating a dataframe for new (user) inputs\n",
        "new_race_data = {\n",
        "    'raceId': [raceId],\n",
        "    'driverId': [driverId],\n",
        "    'points': [points],\n",
        "    'wins': [wins]\n",
        "}\n",
        "new_race_df = pd.DataFrame(new_race_data)"
      ],
      "metadata": {
        "id": "WAT5ui1d0HY2"
      },
      "execution_count": 24,
      "outputs": []
    },
    {
      "cell_type": "markdown",
      "source": [
        "13-th step: use the trained model to predict the probability of winning for the new (user) input data."
      ],
      "metadata": {
        "id": "-Ym4qFwd0vB7"
      }
    },
    {
      "cell_type": "code",
      "source": [
        "# Making a prediction\n",
        "new_race_predictions = model.predict(new_race_df)"
      ],
      "metadata": {
        "colab": {
          "base_uri": "https://localhost:8080/"
        },
        "id": "iDe597uz0qzN",
        "outputId": "6001193a-665d-43ed-ab29-03b2b6deb9f1"
      },
      "execution_count": 25,
      "outputs": [
        {
          "output_type": "stream",
          "name": "stdout",
          "text": [
            "1/1 [==============================] - 0s 20ms/step\n"
          ]
        }
      ]
    },
    {
      "cell_type": "markdown",
      "source": [
        "14-th step: extract the predicted probability of winning from the model's output.\n",
        "\n",
        "Then print the predicted win probability for the specified driver in the specified race."
      ],
      "metadata": {
        "id": "yT7_OlSQ1LC7"
      }
    },
    {
      "cell_type": "code",
      "source": [
        "# Show predicted result\n",
        "win_probability = new_race_predictions[0][0]\n",
        "print(f'Predicted win probability for driver {driverId} in race {raceId}: {win_probability * 100:.2f}%')"
      ],
      "metadata": {
        "colab": {
          "base_uri": "https://localhost:8080/"
        },
        "id": "fubCt0oE084c",
        "outputId": "66eeda05-b9fe-4ce6-d139-093b1510707e"
      },
      "execution_count": 26,
      "outputs": [
        {
          "output_type": "stream",
          "name": "stdout",
          "text": [
            "Predicted win probability for driver 12 in race 2: 0.00%\n"
          ]
        }
      ]
    },
    {
      "cell_type": "markdown",
      "source": [
        "Example of potential user inputs, to test the model:\n",
        "\n",
        "Race ID: 8\n",
        "\n",
        "Driver ID: 30\n",
        "\n",
        "Points: 200\n",
        "\n",
        "Wins: 10"
      ],
      "metadata": {
        "id": "X7CjtWkM33L-"
      }
    }
  ],
  "metadata": {
    "colab": {
      "provenance": [],
      "authorship_tag": "ABX9TyOrgW3YS2ngQlGj+2fUZ2fa",
      "include_colab_link": true
    },
    "kernelspec": {
      "display_name": "Python 3",
      "name": "python3"
    },
    "language_info": {
      "name": "python"
    }
  },
  "nbformat": 4,
  "nbformat_minor": 0
}